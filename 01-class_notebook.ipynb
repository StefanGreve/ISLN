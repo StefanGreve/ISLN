{
 "nbformat": 4,
 "nbformat_minor": 2,
 "metadata": {
  "language_info": {
   "name": "python",
   "codemirror_mode": {
    "name": "ipython",
    "version": 3
   },
   "version": "3.7.1-final"
  },
  "orig_nbformat": 2,
  "file_extension": ".py",
  "mimetype": "text/x-python",
  "name": "python",
  "npconvert_exporter": "python",
  "pygments_lexer": "ipython3",
  "version": 3,
  "kernelspec": {
   "name": "48088786-0f7e-41b0-afed-7dab19dc60cc",
   "display_name": "'Python Interactive'"
  }
 },
 "cells": [
  {
   "cell_type": "markdown",
   "metadata": {},
   "source": [
    "# 1 Intro Stats Lecture Notes"
   ],
   "execution_count": null,
   "outputs": []
  },
  {
   "cell_type": "markdown",
   "metadata": {},
   "source": [
    "## 1.0 Acknowledgements\n",
    "\n",
    "This notebook is for the most part a summary of [Prof. Leonards lectures on Statistics](https://www.youtube.com/channel/UCoHhuummRZaIVX7bD4t2czg), accompanied by various other sources drawn from literature. For more information please refer to the *Works Cited* section at the bottom of this screen."
   ],
   "execution_count": null,
   "outputs": []
  },
  {
   "cell_type": "markdown",
   "metadata": {},
   "source": [
    "## 1.1 Introduction to Core Terminology\n",
    "\n",
    "In this first section we will try to make sense of the keywords that are frequently used in statistics to get us started.\n",
    "\n",
    "- Any collection of observations that have been collected about the members of a group is called **data**.\n",
    "- **Population** refers to the complete collection of all elements in a group.\n",
    "- **Samples** are some subsets (or sub-groups) of a population that are of particular interest.\n",
    "- **Census** is collecting from every member of a population.\n",
    "\n",
    "What's important to note is that if you want to collect a sample, it must be collected *randomly*. A *statistic* is a numerical description of some characteristic of a sample while a *parameter* is a characteristic of a population. To put it simply, **statistics** is the study of collecting, analyzing, summarizing, interpreting and drawing conclusions from data. This term can further be devided into two categories (1):\n",
    "\n",
    "1. **Descriptive Statistics** is the collection, organization, and presentation of data.\n",
    "2. **Inferential Statistics** is the art/science of making inferences (estimates, predictions) about population parameters from sample statistics.\n",
    "\n",
    "The link between these types of statistics is **Probability**. Moreover, we can also distinguish between two types of data:\n",
    "\n",
    "1. **Qualitative Data** (or Categorical Data) is data that is non-numerical, e.g. gender, race, religion or zip codes. Mathematical operations cannot be performed on a collection of qualitative data.\n",
    "2. **Quantitative Data**, on the contrary, is inherently numerical where mathematical operations do make sense and are well defined, like samples on height, weight or age.\n",
    "\n",
    "On top of that there's an even more refined definition of *quantitative data*. Here we make a distinction between *discrete* and *continuous* data in terms of:\n",
    "\n",
    "1. **Discrete Data**, or data that is countable or finite.\n",
    "2. **Continuous Data**, or data that can assume an infinite number of possible values.\n",
    "\n",
    "Continuous data can take on any value and is usually a measurement of time, length, volume or weight. In between any two measurements exists another, even though it often appears to be discrete because of the physical limitations of measuring devices (1).\n",
    "\n",
    "In order to make statements about obtained data collections we can use the **Four Levels of Measurement**, given here from lowest to highest level:\n",
    "\n",
    "1. **Nominal Measurements** can be categorized, but not ordered, leveled or averaged. Examples of nominal data is religious affiliation or gender identities.\n",
    "2. **Ordinal Measurements** can be ordered but the difference between measurements are meaningless, for example the results of an exam (A, B, C, D, E and F).\n",
    "3. **Interval Measurements** are almost the same as ordinal measurements except that differences between measurements make sense in this case. This category does not have natural zeros, thus the notion of ratios makes not much sense here. Take for example non-Kelvin temperatures where zero degrees fahrenheit does not imply that there's no temperature outside.\n",
    "4. **Ratio Measurements** has it all and is best suited for numerical comparisons; for instance monetary currencies from countries all over the world, weights, lengths, and so on."
   ],
   "execution_count": null,
   "outputs": []
  },
  {
   "cell_type": "markdown",
   "metadata": {},
   "source": [
    "## 1.2 Randomness\n",
    "\n",
    "A crucial point in statistics is the design of an experiment or how any collection of observations is obtained. There's a difference in terminology I'd like to point out:\n",
    "\n",
    "- **Observations** measure specific traits, but do not modify the subjects of the study.\n",
    "- **Experiments** apply some sort of treatment first and then measure the effects on the subjects.\n",
    "\n",
    "As far as randomness is concerned we can use the following definition for the time being:\n",
    "\n",
    "> A selection is **random** when each member of a population has an equal chance of being selected.\n",
    "\n",
    "In python we can use the pseudo-random class `random` to replicate this behavior:"
   ],
   "execution_count": null,
   "outputs": []
  },
  {
   "cell_type": "code",
   "execution_count": 5,
   "metadata": {},
   "outputs": [
    {
     "output_type": "stream",
     "name": "stdout",
     "text": "You rolled a 2.\n"
    }
   ],
   "source": [
    "import random\n",
    "\n",
    "dice = [1, 2, 3, 4, 5, 6]\n",
    "\n",
    "def roll(dice):\n",
    "    return random.choice(dice)\n",
    "\n",
    "# What did you roll?\n",
    "print(f\"You rolled a {roll(dice)}.\")"
   ]
  },
  {
   "cell_type": "markdown",
   "metadata": {},
   "source": [
    "This class is produces *pseudo-random* numbers, in other words it means that it is not cryptographically secure and shouldn't be used for encryption and decryption purposes, but for our use cases it is random enough to justify its usage in future examples. You can read more about it in the [documentation](https://docs.python.org/2/library/random.html).\n",
    "\n",
    "There are four common sampling techniques:\n",
    "\n",
    "- ...\n",
    "- ...\n",
    "- ...\n",
    "- ..."
   ]
  },
  {
   "cell_type": "markdown",
   "metadata": {},
   "source": [
    "## Works Cited\n",
    "\n",
    "(1) - *Introduction to Statistics - Think and Do* by Scott Stevens (`Version 4.1`)"
   ],
   "execution_count": null,
   "outputs": []
  },
  {
   "cell_type": "code",
   "execution_count": null,
   "metadata": {},
   "outputs": [],
   "source": []
  }
 ]
}